{
 "cells": [
  {
   "cell_type": "markdown",
   "id": "193bc44f-0422-4954-a092-e80b91189598",
   "metadata": {},
   "source": [
    "# Data Science Tools and Ecosystem"
   ]
  },
  {
   "cell_type": "markdown",
   "id": "04f7aea7-b05b-4db5-94ff-4a3f90ac5ec0",
   "metadata": {},
   "source": [
    "##### In this notebook, Data Science Tools and Ecosystem are summarized."
   ]
  },
  {
   "cell_type": "markdown",
   "id": "d0f8c329-5f48-4b7c-b071-1749b58be8c9",
   "metadata": {},
   "source": [
    "**Objectives**:\n",
    "\n",
    "- Learn how to perform basic arithmetic operations in Python.\n",
    "- Understand how to convert units (e.g., minutes to hours).\n",
    "- Learn how to format strings and display variables in Python.\n",
    "- Explore the use of markdown for creating structured content in Jupyter Notebooks.\n"
   ]
  },
  {
   "cell_type": "markdown",
   "id": "c9459bf2-2a97-4f26-bf05-2a571f8d82da",
   "metadata": {},
   "source": [
    "*Some of the popular languages that Data Scientists use are:*\n",
    "\n",
    "1. Python\n",
    "2. R\n",
    "3. SQL"
   ]
  },
  {
   "cell_type": "markdown",
   "id": "c63b0f1c-ef4d-4f15-9ed9-79c2b10b8d2b",
   "metadata": {},
   "source": [
    "|Data Science Tools|\n",
    "|:--------------------------:|\n",
    "|Jupyter Notebook|\n",
    "|RStudio|\n",
    "|Apache Zeppelin|\n",
    "\n"
   ]
  },
  {
   "cell_type": "markdown",
   "id": "35989a1e-4004-41f9-ae55-513d5e2ef233",
   "metadata": {},
   "source": [
    "### Below are a few examples of evaluating arithmetic expressions in Python ###\n",
    "1. Addition: `5 + 3 = 8`\n",
    "2. Subtraction: `10 - 4 = 6`\n",
    "3. Multiplication: `7 * 6 = 42`\n",
    "4. Division: `20 / 4 = 5`\n",
    "5. Exponentiation: `2^3 = 8`\n",
    "6. Modulo (remainder of division): `10 % 3 = 1`\n",
    "7. Integer Division: `10 // 3 = 3`"
   ]
  },
  {
   "cell_type": "code",
   "execution_count": 17,
   "id": "a3283c1d-403f-49da-b008-ec1621c1aae8",
   "metadata": {},
   "outputs": [
    {
     "data": {
      "text/plain": [
       "17"
      ]
     },
     "execution_count": 17,
     "metadata": {},
     "output_type": "execute_result"
    }
   ],
   "source": [
    "# This is a simple arithmetic expression to multiply then add integers\n",
    "result = (3 * 4) + 5\n",
    "result\n"
   ]
  },
  {
   "cell_type": "code",
   "execution_count": 18,
   "id": "4355f453-3982-484d-9147-427d4a0973e7",
   "metadata": {},
   "outputs": [
    {
     "name": "stdout",
     "output_type": "stream",
     "text": [
      "3 hours and 20 minuts\n"
     ]
    }
   ],
   "source": [
    "# This will convert 200 minutes to hours by dividing by 60\n",
    "time=200\n",
    "hours = time // 60\n",
    "minutes= time%60\n",
    "print(f\"{hours} hours and {minutes} minuts\")\n"
   ]
  },
  {
   "cell_type": "markdown",
   "id": "c594c967-92fa-472a-b97c-733f35dc54d7",
   "metadata": {},
   "source": [
    "## Author\n",
    "\n",
    "*V i t a l i i&nbsp;&nbsp;&nbsp;S i t n i k o v*\n"
   ]
  },
  {
   "cell_type": "code",
   "execution_count": null,
   "id": "d7b2e5ba-21ae-4637-a14c-7b0cb3cbadaf",
   "metadata": {},
   "outputs": [],
   "source": []
  }
 ],
 "metadata": {
  "kernelspec": {
   "display_name": "Python 3 (ipykernel)",
   "language": "python",
   "name": "python3"
  },
  "language_info": {
   "codemirror_mode": {
    "name": "ipython",
    "version": 3
   },
   "file_extension": ".py",
   "mimetype": "text/x-python",
   "name": "python",
   "nbconvert_exporter": "python",
   "pygments_lexer": "ipython3",
   "version": "3.11.5"
  }
 },
 "nbformat": 4,
 "nbformat_minor": 5
}
